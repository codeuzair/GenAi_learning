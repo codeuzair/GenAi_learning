{
 "cells": [
  {
   "cell_type": "markdown",
   "id": "04ff8ec7",
   "metadata": {},
   "source": [
    "## Starting of building Agentic flow\n"
   ]
  },
  {
   "cell_type": "code",
   "execution_count": 1,
   "metadata": {},
   "outputs": [
    {
     "name": "stdout",
     "output_type": "stream",
     "text": [
      "Lets get started!\n"
     ]
    }
   ],
   "source": [
    "print(\"Lets get started!\")"
   ]
  },
  {
   "cell_type": "code",
   "execution_count": 4,
   "id": "f3059259",
   "metadata": {},
   "outputs": [],
   "source": [
    "import os"
   ]
  },
  {
   "cell_type": "code",
   "execution_count": 5,
   "id": "5b380860",
   "metadata": {},
   "outputs": [],
   "source": [
    "from dotenv import load_dotenv"
   ]
  },
  {
   "cell_type": "code",
   "execution_count": 6,
   "id": "8029e6ad",
   "metadata": {},
   "outputs": [
    {
     "data": {
      "text/plain": [
       "True"
      ]
     },
     "execution_count": 6,
     "metadata": {},
     "output_type": "execute_result"
    }
   ],
   "source": [
    "load_dotenv()"
   ]
  },
  {
   "cell_type": "code",
   "execution_count": 7,
   "id": "21899165",
   "metadata": {},
   "outputs": [],
   "source": [
    "import os\n",
    "GROQ_API_KEY=os.getenv(\"GROQ_API_KEY\")"
   ]
  },
  {
   "cell_type": "code",
   "execution_count": 8,
   "id": "19fa3ea1",
   "metadata": {},
   "outputs": [],
   "source": [
    "os.environ[\"GROQ_API_KEY\"]=GROQ_API_KEY"
   ]
  },
  {
   "cell_type": "code",
   "execution_count": 9,
   "id": "947642e5",
   "metadata": {},
   "outputs": [],
   "source": [
    "from langchain_groq import ChatGroq"
   ]
  },
  {
   "cell_type": "code",
   "execution_count": 10,
   "id": "72e1c06a",
   "metadata": {},
   "outputs": [],
   "source": [
    "model = ChatGroq(model = \"deepseek-r1-distill-llama-70b\")"
   ]
  },
  {
   "cell_type": "code",
   "execution_count": 8,
   "id": "4c943cb9",
   "metadata": {},
   "outputs": [],
   "source": [
    "state={}"
   ]
  },
  {
   "cell_type": "code",
   "execution_count": null,
   "id": "3e481011",
   "metadata": {},
   "outputs": [
    {
     "data": {
      "text/plain": [
       "{}"
      ]
     },
     "execution_count": 9,
     "metadata": {},
     "output_type": "execute_result"
    }
   ],
   "source": [
    "state"
   ]
  },
  {
   "cell_type": "code",
   "execution_count": 10,
   "id": "155b357e",
   "metadata": {},
   "outputs": [],
   "source": [
    "state[\"messages\"]=[]"
   ]
  },
  {
   "cell_type": "code",
   "execution_count": 11,
   "id": "27d664c4",
   "metadata": {},
   "outputs": [],
   "source": [
    "state[\"messages\"].append(\"hi\")"
   ]
  },
  {
   "cell_type": "code",
   "execution_count": 12,
   "id": "f462825e",
   "metadata": {},
   "outputs": [
    {
     "data": {
      "text/plain": [
       "{'messages': ['hi']}"
      ]
     },
     "execution_count": 12,
     "metadata": {},
     "output_type": "execute_result"
    }
   ],
   "source": [
    "state"
   ]
  },
  {
   "cell_type": "code",
   "execution_count": 3,
   "id": "2280f9f1",
   "metadata": {},
   "outputs": [],
   "source": [
    "from langgraph.graph import StateGraph,MessagesState,START,END\n",
    "from langgraph.graph.message import add_messages\n",
    "from langchain_core.messages import HumanMessage\n",
    "from typing import Annotated, Literal, TypedDict\n",
    "from langchain_core.messages import AnyMessage\n",
    "from IPython.display import Image,display\n",
    "from langchain_core.tools import tool\n",
    "from langgraph.prebuilt import ToolNode"
   ]
  },
  {
   "cell_type": "code",
   "execution_count": 2,
   "id": "a8927179",
   "metadata": {},
   "outputs": [
    {
     "ename": "NameError",
     "evalue": "name 'TypedDict' is not defined",
     "output_type": "error",
     "traceback": [
      "\u001b[1;31m---------------------------------------------------------------------------\u001b[0m",
      "\u001b[1;31mNameError\u001b[0m                                 Traceback (most recent call last)",
      "Cell \u001b[1;32mIn[2], line 1\u001b[0m\n\u001b[1;32m----> 1\u001b[0m \u001b[38;5;28;01mclass\u001b[39;00m \u001b[38;5;21;01magenticState\u001b[39;00m(\u001b[43mTypedDict\u001b[49m):\n\u001b[0;32m      2\u001b[0m     messages: Annotated[\u001b[38;5;28mlist\u001b[39m[AnyMessage], add_messages]\n",
      "\u001b[1;31mNameError\u001b[0m: name 'TypedDict' is not defined"
     ]
    }
   ],
   "source": [
    "class agenticState(TypedDict):\n",
    "    messages: Annotated[list[AnyMessage], add_messages]"
   ]
  },
  {
   "cell_type": "code",
   "execution_count": null,
   "id": "1fb59925",
   "metadata": {},
   "outputs": [
    {
     "data": {
      "text/plain": [
       "AIMessage(content='<think>\\n\\n</think>\\n\\nHello! How can I assist you today? 😊', additional_kwargs={}, response_metadata={'token_usage': {'completion_tokens': 16, 'prompt_tokens': 6, 'total_tokens': 22, 'completion_time': 0.058181818, 'prompt_time': 0.003642338, 'queue_time': 0.120120484, 'total_time': 0.061824156}, 'model_name': 'deepseek-r1-distill-llama-70b', 'system_fingerprint': 'fp_454c494f52', 'finish_reason': 'stop', 'logprobs': None}, id='run-b76f6530-9778-45b1-a8a5-7cfcfaa92e73-0', usage_metadata={'input_tokens': 6, 'output_tokens': 16, 'total_tokens': 22})"
      ]
     },
     "execution_count": 15,
     "metadata": {},
     "output_type": "execute_result"
    }
   ],
   "source": [
    "model.invoke(\"hi\")"
   ]
  },
  {
   "cell_type": "code",
   "execution_count": null,
   "id": "5ca5408d",
   "metadata": {},
   "outputs": [],
   "source": [
    "def call_model(state:agenticState):\n",
    "    question=state[\"messages\"]\n",
    "    response=model.invoke(question)\n",
    "    return {\"messages\":[response]}\n",
    "\n",
    "\n"
   ]
  },
  {
   "cell_type": "code",
   "execution_count": 18,
   "id": "8d86fbe7",
   "metadata": {},
   "outputs": [],
   "source": [
    "workflow = StateGraph(agenticState)"
   ]
  },
  {
   "cell_type": "code",
   "execution_count": 19,
   "id": "0d999643",
   "metadata": {},
   "outputs": [
    {
     "data": {
      "text/plain": [
       "<langgraph.graph.state.StateGraph at 0x2b63612dfd0>"
      ]
     },
     "execution_count": 19,
     "metadata": {},
     "output_type": "execute_result"
    }
   ],
   "source": [
    "workflow.add_node(\"Assistant\", call_model)"
   ]
  },
  {
   "cell_type": "code",
   "execution_count": 20,
   "id": "170628b3",
   "metadata": {},
   "outputs": [
    {
     "data": {
      "text/plain": [
       "<langgraph.graph.state.StateGraph at 0x2b63612dfd0>"
      ]
     },
     "execution_count": 20,
     "metadata": {},
     "output_type": "execute_result"
    }
   ],
   "source": [
    "workflow.add_edge(START, \"Assistant\")"
   ]
  },
  {
   "cell_type": "code",
   "execution_count": 21,
   "id": "28fb82e9",
   "metadata": {},
   "outputs": [
    {
     "data": {
      "text/plain": [
       "<langgraph.graph.state.StateGraph at 0x2b63612dfd0>"
      ]
     },
     "execution_count": 21,
     "metadata": {},
     "output_type": "execute_result"
    }
   ],
   "source": [
    "workflow.add_edge(\"Assistant\",END)"
   ]
  },
  {
   "cell_type": "code",
   "execution_count": 22,
   "id": "ff10e27b",
   "metadata": {},
   "outputs": [],
   "source": [
    "app = workflow.compile()"
   ]
  },
  {
   "cell_type": "code",
   "execution_count": 43,
   "id": "df06ce00",
   "metadata": {},
   "outputs": [],
   "source": [
    "from IPython.display import Image,display"
   ]
  },
  {
   "cell_type": "code",
   "execution_count": 24,
   "id": "00c619b5",
   "metadata": {},
   "outputs": [
    {
     "data": {
      "image/png": "[encoded data removed]",
      "text/plain": [
       "<IPython.core.display.Image object>"
      ]
     },
     "metadata": {},
     "output_type": "display_data"
    }
   ],
   "source": [
    "display(Image(app.get_graph().draw_mermaid_png()))"
   ]
  },
  {
   "cell_type": "code",
   "execution_count": 25,
   "id": "424418d6",
   "metadata": {},
   "outputs": [],
   "source": [
    "input={\"messages\":[\"hi my name is uzair\"]}"
   ]
  },
  {
   "cell_type": "code",
   "execution_count": 26,
   "id": "35236a59",
   "metadata": {},
   "outputs": [],
   "source": [
    "\n",
    "response = app.invoke(input)"
   ]
  },
  {
   "cell_type": "code",
   "execution_count": 27,
   "id": "e3e20281",
   "metadata": {},
   "outputs": [
    {
     "data": {
      "text/plain": [
       "'<think>\\n\\n</think>\\n\\nHi Uzair! How can I assist you today?'"
      ]
     },
     "execution_count": 27,
     "metadata": {},
     "output_type": "execute_result"
    }
   ],
   "source": [
    "response['messages'][-1].content"
   ]
  },
  {
   "cell_type": "code",
   "execution_count": 28,
   "id": "1e253735",
   "metadata": {},
   "outputs": [
    {
     "name": "stdout",
     "output_type": "stream",
     "text": [
      "Output from Assistant Node\n",
      "_______\n",
      "{'messages': [AIMessage(content='<think>\\n\\n</think>\\n\\nHi Uzair! How can I assist you today? 😊', additional_kwargs={}, response_metadata={'token_usage': {'completion_tokens': 18, 'prompt_tokens': 9, 'total_tokens': 27, 'completion_time': 0.065454545, 'prompt_time': 0.003542081, 'queue_time': 0.209105273, 'total_time': 0.068996626}, 'model_name': 'deepseek-r1-distill-llama-70b', 'system_fingerprint': 'fp_454c494f52', 'finish_reason': 'stop', 'logprobs': None}, id='run-99af03dc-ca86-48dc-a228-5000dbdf5e62-0', usage_metadata={'input_tokens': 9, 'output_tokens': 18, 'total_tokens': 27})]}\n",
      "\n",
      "\n"
     ]
    }
   ],
   "source": [
    "for output in app.stream(input):\n",
    "    for key,value in output.items():\n",
    "        print(f\"Output from {key} Node\")\n",
    "        print(\"_______\")\n",
    "        print(value)\n",
    "        print(\"\\n\")"
   ]
  },
  {
   "cell_type": "code",
   "execution_count": null,
   "id": "b5b9ec74",
   "metadata": {},
   "outputs": [],
   "source": []
  },
  {
   "cell_type": "code",
   "execution_count": 16,
   "id": "2597dc1d",
   "metadata": {},
   "outputs": [],
   "source": [
    "@tool\n",
    "def calculator(a:int,b:int)->int:\n",
    "    \"\"\" Multiply a and b \"\"\"\n",
    "    return a*b"
   ]
  },
  {
   "cell_type": "code",
   "execution_count": 17,
   "id": "f3a5c08e",
   "metadata": {},
   "outputs": [],
   "source": [
    "@tool\n",
    "def chatbot(query:str):\n",
    "    \"\"\"provide answer of the query through llm\"\"\"\n",
    "    return model.invoke(query)"
   ]
  },
  {
   "cell_type": "code",
   "execution_count": 18,
   "id": "59f4bfc5",
   "metadata": {},
   "outputs": [],
   "source": [
    "@tool\n",
    "def add(a:int,b:int)->int:\n",
    "    \"\"\"add both a and b\"\"\"\n",
    "    return a+b"
   ]
  },
  {
   "cell_type": "code",
   "execution_count": 19,
   "id": "06c7286a",
   "metadata": {},
   "outputs": [],
   "source": [
    "@tool\n",
    "def subtract(a:int,b:int)->int:\n",
    "    \"\"\"subtract both a and b\"\"\"\n",
    "    return a-b"
   ]
  },
  {
   "cell_type": "code",
   "execution_count": 20,
   "id": "27e0247a",
   "metadata": {},
   "outputs": [],
   "source": [
    "@tool\n",
    "def divide(a:int,b:int)->int:\n",
    "    \"\"\"divide both a and b\"\"\"\n",
    "    return a/b"
   ]
  },
  {
   "cell_type": "code",
   "execution_count": 21,
   "id": "bc89e12b",
   "metadata": {},
   "outputs": [],
   "source": [
    "from langchain_community.tools import DuckDuckGoSearchRun\n"
   ]
  },
  {
   "cell_type": "code",
   "execution_count": 22,
   "id": "0f4a922c",
   "metadata": {},
   "outputs": [],
   "source": [
    "Duck_Duck_search = DuckDuckGoSearchRun()"
   ]
  },
  {
   "cell_type": "code",
   "execution_count": 23,
   "id": "0ad8c6e6",
   "metadata": {},
   "outputs": [],
   "source": [
    "@tool\n",
    "def generate(query:str):\n",
    "    \"\"\"Generate important quiz question from the topic asked\"\"\"\n",
    "    return model.invoke(query)\n",
    "    "
   ]
  },
  {
   "cell_type": "code",
   "execution_count": 19,
   "id": "6debae2a",
   "metadata": {},
   "outputs": [
    {
     "name": "stdout",
     "output_type": "stream",
     "text": [
      "content=\"<think>\\nOkay, so the user has asked me to generate two questions in the machine learning topic for a paper. Hmm, I need to come up with relevant and current topics that would make for good research papers. Let me think about what's hot in ML right now.\\n\\nFirst, explainability is a big deal. People are using more complex models like deep learning, but they're black boxes. So a question about interpretability could be really useful. That makes sense because as AI becomes more integrated into critical areas, understanding how models make decisions is crucial.\\n\\nNext, generalization. It's a fundamental issue because models often struggle with out-of-distribution data. Adversarial attacks are also a real problem, especially in security-sensitive applications. Combining these aspects could lead to some interesting research on robustness.\\n\\nI should frame these questions to be broad enough for a paper but specific enough to guide the research. Maybe the first question focuses on techniques for improving interpretability in deep learning, and the second on methods to enhance generalization and robustness against adversarial attacks.\\n\\nI think these topics are both timely and have a lot of research potential. They cover important aspects of ML that are relevant to both academia and industry. Alright, I'll present these two questions.\\n</think>\\n\\n1. **How can we improve the interpretability and explainability of deep learning models while maintaining their predictive performance?**\\n\\n2. **What are the most effective methods to enhance the generalization and robustness of machine learning models, particularly in scenarios where the training data distribution differs significantly from real-world test conditions or adversarial attacks?**\" additional_kwargs={} response_metadata={'token_usage': {'completion_tokens': 324, 'prompt_tokens': 14, 'total_tokens': 338, 'completion_time': 1.178181818, 'prompt_time': 0.003641172, 'queue_time': 0.044881898, 'total_time': 1.18182299}, 'model_name': 'deepseek-r1-distill-llama-70b', 'system_fingerprint': 'fp_454c494f52', 'finish_reason': 'stop', 'logprobs': None} id='run-45dda765-d995-44a6-8092-658ad994bcba-0' usage_metadata={'input_tokens': 14, 'output_tokens': 324, 'total_tokens': 338}\n"
     ]
    }
   ],
   "source": [
    "print(generate.invoke(\"generate me 2 questions in machine learning topic for paper\"))"
   ]
  },
  {
   "cell_type": "code",
   "execution_count": 26,
   "id": "aa6b0760",
   "metadata": {},
   "outputs": [],
   "source": [
    "tools = [calculator,add,subtract,divide,generate]"
   ]
  },
  {
   "cell_type": "code",
   "execution_count": 27,
   "id": "541ae82c",
   "metadata": {},
   "outputs": [
    {
     "data": {
      "text/plain": [
       "[StructuredTool(name='calculator', description='Multiply a and b', args_schema=<class 'langchain_core.utils.pydantic.calculator'>, func=<function calculator at 0x00000284408A6520>),\n",
       " StructuredTool(name='add', description='add both a and b', args_schema=<class 'langchain_core.utils.pydantic.add'>, func=<function add at 0x000002844374B2E0>),\n",
       " StructuredTool(name='subtract', description='subtract both a and b', args_schema=<class 'langchain_core.utils.pydantic.subtract'>, func=<function subtract at 0x0000028445FD4D60>),\n",
       " StructuredTool(name='divide', description='divide both a and b', args_schema=<class 'langchain_core.utils.pydantic.divide'>, func=<function divide at 0x00000284436EBF60>),\n",
       " StructuredTool(name='generate', description='Generate important quiz question from the topic asked', args_schema=<class 'langchain_core.utils.pydantic.generate'>, func=<function generate at 0x000002844600AD40>)]"
      ]
     },
     "execution_count": 27,
     "metadata": {},
     "output_type": "execute_result"
    }
   ],
   "source": [
    "tools "
   ]
  },
  {
   "cell_type": "code",
   "execution_count": 28,
   "id": "d38b5d36",
   "metadata": {},
   "outputs": [],
   "source": [
    "llm_tools = model.bind_tools(tools)"
   ]
  },
  {
   "cell_type": "code",
   "execution_count": 29,
   "id": "a351aa36",
   "metadata": {},
   "outputs": [],
   "source": [
    "result = llm_tools.invoke(\"generate me 2 questions in machine learning tpic for paper\")"
   ]
  },
  {
   "cell_type": "code",
   "execution_count": 30,
   "id": "f4df4fb8",
   "metadata": {},
   "outputs": [
    {
     "data": {
      "text/plain": [
       "[]"
      ]
     },
     "execution_count": 30,
     "metadata": {},
     "output_type": "execute_result"
    }
   ],
   "source": [
    "result.tool_calls"
   ]
  },
  {
   "cell_type": "code",
   "execution_count": 31,
   "id": "6bb4455c",
   "metadata": {},
   "outputs": [],
   "source": [
    "from langchain_core.messages import SystemMessage,HumanMessage"
   ]
  },
  {
   "cell_type": "code",
   "execution_count": 32,
   "id": "15ffe337",
   "metadata": {},
   "outputs": [],
   "source": [
    "sys_msg = SystemMessage(content= \"you are an AI assistant which can do arithmatic operation and generation and also question answering tasks\")\n"
   ]
  },
  {
   "cell_type": "code",
   "execution_count": 34,
   "id": "b34c62a3",
   "metadata": {},
   "outputs": [],
   "source": [
    "def assistant(state:MessagesState):\n",
    "    return {\"messages\":[llm_tools.invoke([sys_msg]+state[\"messages\"])]}"
   ]
  },
  {
   "cell_type": "code",
   "execution_count": 35,
   "id": "b33be1f3",
   "metadata": {},
   "outputs": [],
   "source": [
    "builder=StateGraph(MessagesState)"
   ]
  },
  {
   "cell_type": "code",
   "execution_count": 36,
   "id": "94757d20",
   "metadata": {},
   "outputs": [
    {
     "data": {
      "text/plain": [
       "<langgraph.graph.state.StateGraph at 0x28444cb84a0>"
      ]
     },
     "execution_count": 36,
     "metadata": {},
     "output_type": "execute_result"
    }
   ],
   "source": [
    "builder.add_node(\"assistant\",assistant)"
   ]
  },
  {
   "cell_type": "code",
   "execution_count": 37,
   "id": "44dc3e01",
   "metadata": {},
   "outputs": [
    {
     "data": {
      "text/plain": [
       "<langgraph.graph.state.StateGraph at 0x28444cb84a0>"
      ]
     },
     "execution_count": 37,
     "metadata": {},
     "output_type": "execute_result"
    }
   ],
   "source": [
    "builder.add_node(\"tools\",ToolNode(tools))"
   ]
  },
  {
   "cell_type": "code",
   "execution_count": 38,
   "id": "e6628032",
   "metadata": {},
   "outputs": [
    {
     "data": {
      "text/plain": [
       "<langgraph.graph.state.StateGraph at 0x28444cb84a0>"
      ]
     },
     "execution_count": 38,
     "metadata": {},
     "output_type": "execute_result"
    }
   ],
   "source": [
    "builder.add_edge(START,\"assistant\")"
   ]
  },
  {
   "cell_type": "code",
   "execution_count": 39,
   "id": "40691058",
   "metadata": {},
   "outputs": [],
   "source": [
    "\n",
    "from langgraph.prebuilt import tools_condition"
   ]
  },
  {
   "cell_type": "code",
   "execution_count": 40,
   "id": "1e6cd38f",
   "metadata": {},
   "outputs": [
    {
     "data": {
      "text/plain": [
       "<langgraph.graph.state.StateGraph at 0x28444cb84a0>"
      ]
     },
     "execution_count": 40,
     "metadata": {},
     "output_type": "execute_result"
    }
   ],
   "source": [
    "builder.add_conditional_edges(\n",
    "    \"assistant\",\n",
    "    tools_condition\n",
    ")"
   ]
  },
  {
   "cell_type": "code",
   "execution_count": 41,
   "id": "ad707e61",
   "metadata": {},
   "outputs": [],
   "source": [
    "react_app=builder.compile()"
   ]
  },
  {
   "cell_type": "code",
   "execution_count": null,
   "id": "a3dad24f",
   "metadata": {},
   "outputs": [
    {
     "ename": "NameError",
     "evalue": "name 'Image' is not defined",
     "output_type": "error",
     "traceback": [
      "\u001b[1;31m---------------------------------------------------------------------------\u001b[0m",
      "\u001b[1;31mNameError\u001b[0m                                 Traceback (most recent call last)",
      "Cell \u001b[1;32mIn[42], line 1\u001b[0m\n\u001b[1;32m----> 1\u001b[0m display(\u001b[43mImage\u001b[49m(react_app\u001b[38;5;241m.\u001b[39mget_graph()\u001b[38;5;241m.\u001b[39mdraw_mermaid_png()))\n",
      "\u001b[1;31mNameError\u001b[0m: name 'Image' is not defined"
     ]
    }
   ],
   "source": [
    "display(Image(app.get_graph().draw_mermaid_png()))"
   ]
  },
  {
   "cell_type": "code",
   "execution_count": 36,
   "id": "156a2910",
   "metadata": {},
   "outputs": [
    {
     "name": "stderr",
     "output_type": "stream",
     "text": [
      "Adding an edge to a graph that has already been compiled. This will not be reflected in the compiled graph.\n"
     ]
    },
    {
     "data": {
      "text/plain": [
       "<langgraph.graph.state.StateGraph at 0x21a3570a3c0>"
      ]
     },
     "execution_count": 36,
     "metadata": {},
     "output_type": "execute_result"
    }
   ],
   "source": [
    "builder.add_edge(\"tools\",\"assistant\")"
   ]
  },
  {
   "cell_type": "code",
   "execution_count": 37,
   "id": "b6188de6",
   "metadata": {},
   "outputs": [],
   "source": [
    "react_app=builder.compile()"
   ]
  },
  {
   "cell_type": "code",
   "execution_count": 44,
   "id": "3b00c923",
   "metadata": {},
   "outputs": [
    {
     "data": {
      "image/png": "[encoded data removed]",
      "text/plain": [
       "<IPython.core.display.Image object>"
      ]
     },
     "metadata": {},
     "output_type": "display_data"
    }
   ],
   "source": [
    "display(Image(react_app.get_graph().draw_mermaid_png()))"
   ]
  },
  {
   "cell_type": "code",
   "execution_count": null,
   "id": "188b3a2f",
   "metadata": {},
   "outputs": [],
   "source": []
  },
  {
   "cell_type": "code",
   "execution_count": null,
   "id": "116840d5",
   "metadata": {},
   "outputs": [],
   "source": []
  },
  {
   "cell_type": "code",
   "execution_count": null,
   "id": "4c9c45b4",
   "metadata": {},
   "outputs": [],
   "source": []
  },
  {
   "cell_type": "code",
   "execution_count": null,
   "id": "63ca152e",
   "metadata": {},
   "outputs": [],
   "source": []
  },
  {
   "cell_type": "markdown",
   "id": "f1098f91",
   "metadata": {},
   "source": [
    "## lANGGRAPH-> mEMORY SAVER, hUMAN IN LOOP"
   ]
  },
  {
   "cell_type": "markdown",
   "id": "a251e882",
   "metadata": {},
   "source": [
    "## 2- Multi agents"
   ]
  },
  {
   "cell_type": "code",
   "execution_count": 1,
   "id": "9bc027ba",
   "metadata": {},
   "outputs": [],
   "source": [
    "from typing import Annotated\n",
    "import operator,json\n",
    "from typing import TypedDict, Annotated, Sequence\n",
    "from typing_extensions import TypedDict\n",
    "from langchain_core.messages import BaseMessage\n",
    "from langgraph.checkpoint.memory import MemorySaver\n",
    "from langgraph.graph import StateGraph,END,START\n",
    "from langgraph.graph.message import add_messages\n",
    "from langgraph.prebuilt import ToolNode, tools_condition\n",
    "from langchain_core.tools import tool\n",
    "from langchain_community.tools.tavily_search import TavilySearchResults\n",
    "from IPython.display import Image,display"
   ]
  },
  {
   "cell_type": "code",
   "execution_count": 2,
   "id": "92fa21a5",
   "metadata": {},
   "outputs": [],
   "source": [
    "class agentState(TypedDict):\n",
    "    messages: Annotated[Sequence[BaseMessage], operator.add]"
   ]
  },
  {
   "cell_type": "code",
   "execution_count": 3,
   "id": "7185a254",
   "metadata": {},
   "outputs": [],
   "source": [
    "def invoke_model(state:agentState):\n",
    "    pass"
   ]
  },
  {
   "cell_type": "code",
   "execution_count": 4,
   "id": "51d8b3dc",
   "metadata": {},
   "outputs": [],
   "source": [
    "def invoke_tool(state:agentState):\n",
    "    pass"
   ]
  },
  {
   "cell_type": "code",
   "execution_count": 5,
   "id": "4378644d",
   "metadata": {},
   "outputs": [],
   "source": [
    "def router(state:agentState):\n",
    "    tool_calls = state['messages'][-1].additional_kwargs.get(\"tool_calls\", [])\n",
    "    if len(tool_calls):\n",
    "        return \"tool\"\n",
    "    else:\n",
    "        return \"end\"\n",
    "     "
   ]
  },
  {
   "cell_type": "code",
   "execution_count": 22,
   "id": "8058807c",
   "metadata": {},
   "outputs": [],
   "source": [
    "graph = StateGraph(agentState)"
   ]
  },
  {
   "cell_type": "code",
   "execution_count": 23,
   "id": "38c7c1dd",
   "metadata": {},
   "outputs": [
    {
     "data": {
      "text/plain": [
       "<langgraph.graph.state.StateGraph at 0x1ae54cd1be0>"
      ]
     },
     "execution_count": 23,
     "metadata": {},
     "output_type": "execute_result"
    }
   ],
   "source": [
    "graph.add_node(\"AI_assistant\",invoke_model)\n",
    "graph.add_node(\"tool\", invoke_tool)"
   ]
  },
  {
   "cell_type": "code",
   "execution_count": 24,
   "id": "f9ba52cf",
   "metadata": {},
   "outputs": [
    {
     "data": {
      "text/plain": [
       "<langgraph.graph.state.StateGraph at 0x1ae54cd1be0>"
      ]
     },
     "execution_count": 24,
     "metadata": {},
     "output_type": "execute_result"
    }
   ],
   "source": [
    "graph.add_conditional_edges(\n",
    "    \"AI_assistant\",\n",
    "    router,\n",
    "    {\"tool\":\"tool\",\"end\":END}\n",
    ")"
   ]
  },
  {
   "cell_type": "code",
   "execution_count": 25,
   "id": "f93920f0",
   "metadata": {},
   "outputs": [
    {
     "data": {
      "text/plain": [
       "<langgraph.graph.state.StateGraph at 0x1ae54cd1be0>"
      ]
     },
     "execution_count": 25,
     "metadata": {},
     "output_type": "execute_result"
    }
   ],
   "source": [
    "# graph.add_edge(\"tool\", END)\n",
    "graph.add_edge(\"tool\" , \"AI_assistant\")\n",
    "graph.set_entry_point(\"AI_assistant\")"
   ]
  },
  {
   "cell_type": "code",
   "execution_count": 26,
   "id": "1dea7241",
   "metadata": {},
   "outputs": [],
   "source": [
    "app = graph.compile()"
   ]
  },
  {
   "cell_type": "code",
   "execution_count": 27,
   "id": "582f6640",
   "metadata": {},
   "outputs": [
    {
     "data": {
      "image/png": "[encoded data removed]",
      "text/plain": [
       "<IPython.core.display.Image object>"
      ]
     },
     "metadata": {},
     "output_type": "display_data"
    }
   ],
   "source": [
    "display(Image(app.get_graph().draw_mermaid_png()))"
   ]
  },
  {
   "cell_type": "code",
   "execution_count": null,
   "id": "1ab3d8b2",
   "metadata": {},
   "outputs": [],
   "source": []
  },
  {
   "cell_type": "code",
   "execution_count": 11,
   "id": "f49cba54",
   "metadata": {},
   "outputs": [
    {
     "data": {
      "image/png": "[encoded data removed]",
      "text/plain": [
       "<IPython.core.display.Image object>"
      ]
     },
     "metadata": {},
     "output_type": "display_data"
    }
   ],
   "source": [
    "display(Image(app.get_graph().draw_mermaid_png()))"
   ]
  },
  {
   "cell_type": "code",
   "execution_count": null,
   "id": "1e76bda8",
   "metadata": {},
   "outputs": [],
   "source": []
  }
 ],
 "metadata": {
  "kernelspec": {
   "display_name": "Python 3",
   "language": "python",
   "name": "python3"
  },
  "language_info": {
   "codemirror_mode": {
    "name": "ipython",
    "version": 3
   },
   "file_extension": ".py",
   "mimetype": "text/x-python",
   "name": "python",
   "nbconvert_exporter": "python",
   "pygments_lexer": "ipython3",
   "version": "3.12.1"
  }
 },
 "nbformat": 4,
 "nbformat_minor": 5
}

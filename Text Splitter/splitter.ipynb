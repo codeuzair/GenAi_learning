{
 "cells": [
  {
   "cell_type": "markdown",
   "id": "842585fe",
   "metadata": {},
   "source": [
    "Chunking with character text splitter\n"
   ]
  },
  {
   "cell_type": "code",
   "execution_count": 1,
   "id": "8452ea0c",
   "metadata": {},
   "outputs": [],
   "source": [
    "text = \"\"\"\n",
    "Lorem ipsum dolor sit amet, consectetur adipiscing elit. Sed do eiusmod tempor incididunt ut labore et dolore magna aliqua.\n",
    "\n",
    "Ut enim ad minim veniam, quis nostrud exercitation ullamco laboris nisi ut aliquip ex ea commodo consequat.\n",
    "\n",
    "Duis aute irure dolor in reprehenderit in voluptate velit esse cillum dolore eu fugiat nulla pariatur.\n",
    "\n",
    "Excepteur sint occaecat cupidatat non proident, sunt in culpa qui officia deserunt mollit anim id est laborum.\n",
    "\"\"\""
   ]
  },
  {
   "cell_type": "code",
   "execution_count": 2,
   "id": "c03e4f15",
   "metadata": {},
   "outputs": [],
   "source": [
    "from langchain.text_splitter import RecursiveCharacterTextSplitter"
   ]
  },
  {
   "cell_type": "code",
   "execution_count": null,
   "id": "85ac726c",
   "metadata": {},
   "outputs": [],
   "source": []
  },
  {
   "cell_type": "code",
   "execution_count": 4,
   "id": "a555d9e7",
   "metadata": {},
   "outputs": [],
   "source": [
    "from langchain.document_loaders import TextLoader"
   ]
  },
  {
   "cell_type": "code",
   "execution_count": 15,
   "id": "eaf2643a",
   "metadata": {},
   "outputs": [],
   "source": [
    "loader = TextLoader(\"email.txt\")"
   ]
  },
  {
   "cell_type": "code",
   "execution_count": 16,
   "id": "6f6e26e6",
   "metadata": {},
   "outputs": [],
   "source": [
    "data = loader.load()"
   ]
  },
  {
   "cell_type": "code",
   "execution_count": 22,
   "id": "d1d979e5",
   "metadata": {},
   "outputs": [
    {
     "data": {
      "text/plain": [
       "'EMAIL FOR DISTRIBUTOR\\n\\nRequest for Reselling Authorization\\nDear,\\nThis is Brenly from UZAIR TRADERS LLC Company. We own a large wholesale distribution company in Washington.\\nWe are interested in reselling your products and want to open a wholesale account with you.\\nWe have no objections to your policies, specifically your MAP and MOQ policies.\\nPlease let us know if you require any documentation to open our account.\\n\\nBest regards,\\nUZAIR TRADERS LLC\\nEmail: sales@uzairtradersllc.com\\nPhone: 5092231562\\nAddress: 100 N HOWARD ST STE 4079, SPOKANE, WA, 99201-0508, UNITED STATES\\nWebsite: uzairtradersllc.com\\n\\n\\nproduct is on walmart cheap . and amazon is high price. contact its brandB0CVG2JT3Q\\n\\n***************************************************************************\\n\\nstore url : https://www.amazon.com/s?me=A1GMN2JN19B94C&marketplaceID=ATVPDKIKX0DER\\n\\n100 N HOWARD ST STE 4079, SPOKANE, WA, 99201-0508,\\nUNITED STATES\\nVIA TRADING 100$ off: VSEWSC\\n\\n***************************************************************************************************************************************\\n\\n***************************************************************************************************************************************\\nTemplate for Reminder Email\\n\\nFollow-up Email for Wholesale Account Creation\\nHello,\\nI am Brenly, the Sales Manager at \"UZAIR TRADERS LLC\" Company. We are a Washington-based online retailer.\\nWe\\'re excited about the chance to showcase your products in our retail line-up. Could you please guide us on opening a wholesale account and accessing pricing details? If you don\\'t get back to us within one business day, we\\'ll reach out via phone.\\nLooking forward to hearing from you soon.\\nBest regards,\\n\\nCompany Name: UZAIR TRADERS LLC\\nEmail: sales@uzairtradersllc.com\\nPhone: 5092231562\\nAddress: 100 N HOWARD ST STE 4079, SPOKANE, WA, 99201-0508, UNITED STATES\\nWebsite: uzairtradersllc.com\\n\\n*****************************************************************************************************************************************\\n\\n***************************************************************************************************************************************\\nDistributor Info\\n\\nThank you for your prompt response and for providing clarity on your current sales policies.\\nGiven your restrictions on online sales, could you please provide information about your authorized distributors?\\nI believe establishing a connection with them will allow us to explore potential opportunities to carry and promote your products.\\nI appreciate your assistance in this matter and look forward to the possibility of collaborating with your authorized distributors.\\nThank you again for your time and consideration.\\nBest regards,\\n[Your Full Name] [Your Position] [Your Company] [Your Contact Information]\\n\\n\\nFor UPC , PRICE LIST\\n\\nDear U.W.I team,\\nI hope this email finds you well. My name is John Andrew, and I recently opened a wholesale account with your company through your website. \\nI would like to request the current wholesale price list.\\nCould you please provide me with the most up-to-date wholesale price list for your products? \\nAdditionally, if there are any special promotions, discounts, or terms that I should be aware of, kindly include that information as well.\\nThank you for your assistance, and I am eager to begin our collaboration.\\n\\n\\n*****************************************************************************************************************************************\\nSubject :  Request to provide authorization of Distributor \\nDear [Brand Name], \\nWe are interested in becoming an authorized distributor for your products \\nand have been approached by one of your current distributors who has expressed \\ninterest in allowing us to resell your products indirectly through their network. \\n\\nSupplier Name: MinMaxDeals LLC\\nWebsite URL: https://www.https://minmaxdeals.com/\\n\\nIn order to proceed with this arrangement, we kindly request your authorization to become \\nan authorized distributor of your products, and for your approval of this arrangement with your existing distributor. \\nWe believe that this will enable us to expand our reach and offer your products to a wider customer base. \\n\\nThank you for your consideration, and we look forward to the opportunity to work with you. \\n\\nBest regards,\\n\\n\\ntotal sale on account= 381.96 total sale\\n\\nGolden Total Invested for single unit = 15.5195,  and total for 18 units : 279.351\\nGolden total made from 18 units =  311.54\\nTotal profit made = 32.189\\n\\n\\n\\t\\n\\nhttps://www.amazon.com/sp?ie=UTF8&seller=A1K4DETF8FR5NC&isAmazonFulfilled=1&asin=B09YMN75MP&ref_=olp_merch_name_4\\n\\n\\nhttps://www.amazon.com/sp?ie=UTF8&seller=AU059ESUZQM99&isAmazonFulfilled=1&asin=B09YMN75MP&ref_=olp_merch_name_3\\n\\n\\nhttps://www.amazon.com/sp?ie=UTF8&seller=A3VYMWM1PN27IJ&isAmazonFulfilled=1&asin=B09YMN75MP&ref_=olp_merch_name_2\\n\\n\\n\\n\\nhttps://www.amazon.com/sp?ie=UTF8&seller=A1NEA5XI8P87NP&isAmazonFulfilled=1&asin=B09YMN75MP&ref_=olp_merch_name_0\\n\\n\\nSubject: Proposal for Collaboration with Uzair Traders LLC  \\n\\nDear [Recipient\\'s Name],  \\n\\nI hope this message finds you in good health and high spirits. My name is Muhammad Uzair, and I am the Director of Uzair Traders LLC. We are keen to explore a mutually beneficial partnership with your esteemed company.  \\n\\nUzair Traders LLC specializes in advertising and sales through platforms like Facebook Marketplace, leveraging a dynamic and highly efficient team spread across various locations. With a track record of generating a minimum of 50 daily orders, we are confident in our ability to drive significant value for your products.  \\n\\nOur proposed collaboration involves us securing orders for your products in the United States. Once an order is successfully delivered, we would expect the agreed-upon payment for our services. This model ensures minimal risk on your end while allowing both parties to focus on their respective strengths.  \\n\\nWe believe this partnership holds substantial potential for growth and success. We are eager to discuss this opportunity in greater detail and explore how we can align our efforts to achieve shared goals.  \\n\\nThank you for considering our proposal. I look forward to hearing from you soon.  \\n\\nBest regards,  \\nMuhammad Uzair  \\nDirector  \\nUzair Traders LLC  \\n[Contact Information]'"
      ]
     },
     "execution_count": 22,
     "metadata": {},
     "output_type": "execute_result"
    }
   ],
   "source": [
    "data[0].page_content"
   ]
  },
  {
   "cell_type": "code",
   "execution_count": 23,
   "id": "f600e850",
   "metadata": {},
   "outputs": [
    {
     "data": {
      "text/plain": [
       "6305"
      ]
     },
     "execution_count": 23,
     "metadata": {},
     "output_type": "execute_result"
    }
   ],
   "source": [
    "len(data[0].page_content)"
   ]
  },
  {
   "cell_type": "code",
   "execution_count": 59,
   "id": "b7dcff82",
   "metadata": {},
   "outputs": [],
   "source": [
    "splitter = RecursiveCharacterTextSplitter(\n",
    "    chunk_size = 1000,\n",
    "    chunk_overlap = 200,\n",
    "    length_function = len,\n",
    "    is_separator_regex=False\n",
    ")\n"
   ]
  },
  {
   "cell_type": "code",
   "execution_count": 31,
   "id": "88ee0141",
   "metadata": {},
   "outputs": [],
   "source": [
    "result = splitter.split_documents(data)"
   ]
  },
  {
   "cell_type": "code",
   "execution_count": 32,
   "id": "6b8ee7b0",
   "metadata": {},
   "outputs": [
    {
     "data": {
      "text/plain": [
       "9"
      ]
     },
     "execution_count": 32,
     "metadata": {},
     "output_type": "execute_result"
    }
   ],
   "source": [
    "len(result)"
   ]
  },
  {
   "cell_type": "code",
   "execution_count": 33,
   "id": "5e9ed3ed",
   "metadata": {},
   "outputs": [
    {
     "data": {
      "text/plain": [
       "[Document(metadata={'source': 'email.txt'}, page_content='EMAIL FOR DISTRIBUTOR\\n\\nRequest for Reselling Authorization\\nDear,\\nThis is Brenly from UZAIR TRADERS LLC Company. We own a large wholesale distribution company in Washington.\\nWe are interested in reselling your products and want to open a wholesale account with you.\\nWe have no objections to your policies, specifically your MAP and MOQ policies.\\nPlease let us know if you require any documentation to open our account.\\n\\nBest regards,\\nUZAIR TRADERS LLC\\nEmail: sales@uzairtradersllc.com\\nPhone: 5092231562\\nAddress: 100 N HOWARD ST STE 4079, SPOKANE, WA, 99201-0508, UNITED STATES\\nWebsite: uzairtradersllc.com\\n\\n\\nproduct is on walmart cheap . and amazon is high price. contact its brandB0CVG2JT3Q\\n\\n***************************************************************************\\n\\nstore url : https://www.amazon.com/s?me=A1GMN2JN19B94C&marketplaceID=ATVPDKIKX0DER\\n\\n100 N HOWARD ST STE 4079, SPOKANE, WA, 99201-0508,\\nUNITED STATES\\nVIA TRADING 100$ off: VSEWSC'),\n",
       " Document(metadata={'source': 'email.txt'}, page_content='store url : https://www.amazon.com/s?me=A1GMN2JN19B94C&marketplaceID=ATVPDKIKX0DER\\n\\n100 N HOWARD ST STE 4079, SPOKANE, WA, 99201-0508,\\nUNITED STATES\\nVIA TRADING 100$ off: VSEWSC\\n\\n***************************************************************************************************************************************\\n\\n***************************************************************************************************************************************\\nTemplate for Reminder Email\\n\\nFollow-up Email for Wholesale Account Creation\\nHello,\\nI am Brenly, the Sales Manager at \"UZAIR TRADERS LLC\" Company. We are a Washington-based online retailer.\\nWe\\'re excited about the chance to showcase your products in our retail line-up. Could you please guide us on opening a wholesale account and accessing pricing details? If you don\\'t get back to us within one business day, we\\'ll reach out via phone.\\nLooking forward to hearing from you soon.\\nBest regards,'),\n",
       " Document(metadata={'source': 'email.txt'}, page_content='Company Name: UZAIR TRADERS LLC\\nEmail: sales@uzairtradersllc.com\\nPhone: 5092231562\\nAddress: 100 N HOWARD ST STE 4079, SPOKANE, WA, 99201-0508, UNITED STATES\\nWebsite: uzairtradersllc.com\\n\\n*****************************************************************************************************************************************\\n\\n***************************************************************************************************************************************\\nDistributor Info'),\n",
       " Document(metadata={'source': 'email.txt'}, page_content='***************************************************************************************************************************************\\nDistributor Info\\n\\nThank you for your prompt response and for providing clarity on your current sales policies.\\nGiven your restrictions on online sales, could you please provide information about your authorized distributors?\\nI believe establishing a connection with them will allow us to explore potential opportunities to carry and promote your products.\\nI appreciate your assistance in this matter and look forward to the possibility of collaborating with your authorized distributors.\\nThank you again for your time and consideration.\\nBest regards,\\n[Your Full Name] [Your Position] [Your Company] [Your Contact Information]\\n\\n\\nFor UPC , PRICE LIST'),\n",
       " Document(metadata={'source': 'email.txt'}, page_content='For UPC , PRICE LIST\\n\\nDear U.W.I team,\\nI hope this email finds you well. My name is John Andrew, and I recently opened a wholesale account with your company through your website. \\nI would like to request the current wholesale price list.\\nCould you please provide me with the most up-to-date wholesale price list for your products? \\nAdditionally, if there are any special promotions, discounts, or terms that I should be aware of, kindly include that information as well.\\nThank you for your assistance, and I am eager to begin our collaboration.'),\n",
       " Document(metadata={'source': 'email.txt'}, page_content='*****************************************************************************************************************************************\\nSubject :  Request to provide authorization of Distributor \\nDear [Brand Name], \\nWe are interested in becoming an authorized distributor for your products \\nand have been approached by one of your current distributors who has expressed \\ninterest in allowing us to resell your products indirectly through their network. \\n\\nSupplier Name: MinMaxDeals LLC\\nWebsite URL: https://www.https://minmaxdeals.com/\\n\\nIn order to proceed with this arrangement, we kindly request your authorization to become \\nan authorized distributor of your products, and for your approval of this arrangement with your existing distributor. \\nWe believe that this will enable us to expand our reach and offer your products to a wider customer base. \\n\\nThank you for your consideration, and we look forward to the opportunity to work with you. \\n\\nBest regards,'),\n",
       " Document(metadata={'source': 'email.txt'}, page_content=\"Thank you for your consideration, and we look forward to the opportunity to work with you. \\n\\nBest regards,\\n\\n\\ntotal sale on account= 381.96 total sale\\n\\nGolden Total Invested for single unit = 15.5195,  and total for 18 units : 279.351\\nGolden total made from 18 units =  311.54\\nTotal profit made = 32.189\\n\\n\\n\\t\\n\\nhttps://www.amazon.com/sp?ie=UTF8&seller=A1K4DETF8FR5NC&isAmazonFulfilled=1&asin=B09YMN75MP&ref_=olp_merch_name_4\\n\\n\\nhttps://www.amazon.com/sp?ie=UTF8&seller=AU059ESUZQM99&isAmazonFulfilled=1&asin=B09YMN75MP&ref_=olp_merch_name_3\\n\\n\\nhttps://www.amazon.com/sp?ie=UTF8&seller=A3VYMWM1PN27IJ&isAmazonFulfilled=1&asin=B09YMN75MP&ref_=olp_merch_name_2\\n\\n\\n\\n\\nhttps://www.amazon.com/sp?ie=UTF8&seller=A1NEA5XI8P87NP&isAmazonFulfilled=1&asin=B09YMN75MP&ref_=olp_merch_name_0\\n\\n\\nSubject: Proposal for Collaboration with Uzair Traders LLC  \\n\\nDear [Recipient's Name],\"),\n",
       " Document(metadata={'source': 'email.txt'}, page_content=\"Subject: Proposal for Collaboration with Uzair Traders LLC  \\n\\nDear [Recipient's Name],  \\n\\nI hope this message finds you in good health and high spirits. My name is Muhammad Uzair, and I am the Director of Uzair Traders LLC. We are keen to explore a mutually beneficial partnership with your esteemed company.  \\n\\nUzair Traders LLC specializes in advertising and sales through platforms like Facebook Marketplace, leveraging a dynamic and highly efficient team spread across various locations. With a track record of generating a minimum of 50 daily orders, we are confident in our ability to drive significant value for your products.  \\n\\nOur proposed collaboration involves us securing orders for your products in the United States. Once an order is successfully delivered, we would expect the agreed-upon payment for our services. This model ensures minimal risk on your end while allowing both parties to focus on their respective strengths.\"),\n",
       " Document(metadata={'source': 'email.txt'}, page_content='We believe this partnership holds substantial potential for growth and success. We are eager to discuss this opportunity in greater detail and explore how we can align our efforts to achieve shared goals.  \\n\\nThank you for considering our proposal. I look forward to hearing from you soon.  \\n\\nBest regards,  \\nMuhammad Uzair  \\nDirector  \\nUzair Traders LLC  \\n[Contact Information]')]"
      ]
     },
     "execution_count": 33,
     "metadata": {},
     "output_type": "execute_result"
    }
   ],
   "source": [
    "result"
   ]
  },
  {
   "cell_type": "markdown",
   "id": "e9ab7503",
   "metadata": {},
   "source": [
    "🔹 Use create_documents() when you have raw text (str) and want to turn it into Document chunks.\n",
    "\n",
    "🔹 Use split_documents() when you already have Document objects and want to chunk their content."
   ]
  },
  {
   "cell_type": "code",
   "execution_count": 49,
   "id": "d6dc871a",
   "metadata": {},
   "outputs": [],
   "source": [
    "with open(\"email.txt\") as f:\n",
    "    state_of_union = f.read()"
   ]
  },
  {
   "cell_type": "code",
   "execution_count": 50,
   "id": "a813d773",
   "metadata": {},
   "outputs": [
    {
     "data": {
      "text/plain": [
       "'EMAIL FOR DISTRIBUTOR\\n\\nRequest for Reselling Authorization\\nDear,\\nThis is Brenly from UZAIR TRADERS LLC Company. We own a large wholesale distribution company in Washington.\\nWe are interested in reselling your products and want to open a wholesale account with you.\\nWe have no objections to your policies, specifically your MAP and MOQ policies.\\nPlease let us know if you require any documentation to open our account.\\n\\nBest regards,\\nUZAIR TRADERS LLC\\nEmail: sales@uzairtradersllc.com\\nPhone: 5092231562\\nAddress: 100 N HOWARD ST STE 4079, SPOKANE, WA, 99201-0508, UNITED STATES\\nWebsite: uzairtradersllc.com\\n\\n\\nproduct is on walmart cheap . and amazon is high price. contact its brandB0CVG2JT3Q\\n\\n***************************************************************************\\n\\nstore url : https://www.amazon.com/s?me=A1GMN2JN19B94C&marketplaceID=ATVPDKIKX0DER\\n\\n100 N HOWARD ST STE 4079, SPOKANE, WA, 99201-0508,\\nUNITED STATES\\nVIA TRADING 100$ off: VSEWSC\\n\\n***************************************************************************************************************************************\\n\\n***************************************************************************************************************************************\\nTemplate for Reminder Email\\n\\nFollow-up Email for Wholesale Account Creation\\nHello,\\nI am Brenly, the Sales Manager at \"UZAIR TRADERS LLC\" Company. We are a Washington-based online retailer.\\nWe\\'re excited about the chance to showcase your products in our retail line-up. Could you please guide us on opening a wholesale account and accessing pricing details? If you don\\'t get back to us within one business day, we\\'ll reach out via phone.\\nLooking forward to hearing from you soon.\\nBest regards,\\n\\nCompany Name: UZAIR TRADERS LLC\\nEmail: sales@uzairtradersllc.com\\nPhone: 5092231562\\nAddress: 100 N HOWARD ST STE 4079, SPOKANE, WA, 99201-0508, UNITED STATES\\nWebsite: uzairtradersllc.com\\n\\n*****************************************************************************************************************************************\\n\\n***************************************************************************************************************************************\\nDistributor Info\\n\\nThank you for your prompt response and for providing clarity on your current sales policies.\\nGiven your restrictions on online sales, could you please provide information about your authorized distributors?\\nI believe establishing a connection with them will allow us to explore potential opportunities to carry and promote your products.\\nI appreciate your assistance in this matter and look forward to the possibility of collaborating with your authorized distributors.\\nThank you again for your time and consideration.\\nBest regards,\\n[Your Full Name] [Your Position] [Your Company] [Your Contact Information]\\n\\n\\nFor UPC , PRICE LIST\\n\\nDear U.W.I team,\\nI hope this email finds you well. My name is John Andrew, and I recently opened a wholesale account with your company through your website. \\nI would like to request the current wholesale price list.\\nCould you please provide me with the most up-to-date wholesale price list for your products? \\nAdditionally, if there are any special promotions, discounts, or terms that I should be aware of, kindly include that information as well.\\nThank you for your assistance, and I am eager to begin our collaboration.\\n\\n\\n*****************************************************************************************************************************************\\nSubject :  Request to provide authorization of Distributor \\nDear [Brand Name], \\nWe are interested in becoming an authorized distributor for your products \\nand have been approached by one of your current distributors who has expressed \\ninterest in allowing us to resell your products indirectly through their network. \\n\\nSupplier Name: MinMaxDeals LLC\\nWebsite URL: https://www.https://minmaxdeals.com/\\n\\nIn order to proceed with this arrangement, we kindly request your authorization to become \\nan authorized distributor of your products, and for your approval of this arrangement with your existing distributor. \\nWe believe that this will enable us to expand our reach and offer your products to a wider customer base. \\n\\nThank you for your consideration, and we look forward to the opportunity to work with you. \\n\\nBest regards,\\n\\n\\ntotal sale on account= 381.96 total sale\\n\\nGolden Total Invested for single unit = 15.5195,  and total for 18 units : 279.351\\nGolden total made from 18 units =  311.54\\nTotal profit made = 32.189\\n\\n\\n\\t\\n\\nhttps://www.amazon.com/sp?ie=UTF8&seller=A1K4DETF8FR5NC&isAmazonFulfilled=1&asin=B09YMN75MP&ref_=olp_merch_name_4\\n\\n\\nhttps://www.amazon.com/sp?ie=UTF8&seller=AU059ESUZQM99&isAmazonFulfilled=1&asin=B09YMN75MP&ref_=olp_merch_name_3\\n\\n\\nhttps://www.amazon.com/sp?ie=UTF8&seller=A3VYMWM1PN27IJ&isAmazonFulfilled=1&asin=B09YMN75MP&ref_=olp_merch_name_2\\n\\n\\n\\n\\nhttps://www.amazon.com/sp?ie=UTF8&seller=A1NEA5XI8P87NP&isAmazonFulfilled=1&asin=B09YMN75MP&ref_=olp_merch_name_0\\n\\n\\nSubject: Proposal for Collaboration with Uzair Traders LLC  \\n\\nDear [Recipient\\'s Name],  \\n\\nI hope this message finds you in good health and high spirits. My name is Muhammad Uzair, and I am the Director of Uzair Traders LLC. We are keen to explore a mutually beneficial partnership with your esteemed company.  \\n\\nUzair Traders LLC specializes in advertising and sales through platforms like Facebook Marketplace, leveraging a dynamic and highly efficient team spread across various locations. With a track record of generating a minimum of 50 daily orders, we are confident in our ability to drive significant value for your products.  \\n\\nOur proposed collaboration involves us securing orders for your products in the United States. Once an order is successfully delivered, we would expect the agreed-upon payment for our services. This model ensures minimal risk on your end while allowing both parties to focus on their respective strengths.  \\n\\nWe believe this partnership holds substantial potential for growth and success. We are eager to discuss this opportunity in greater detail and explore how we can align our efforts to achieve shared goals.  \\n\\nThank you for considering our proposal. I look forward to hearing from you soon.  \\n\\nBest regards,  \\nMuhammad Uzair  \\nDirector  \\nUzair Traders LLC  \\n[Contact Information]'"
      ]
     },
     "execution_count": 50,
     "metadata": {},
     "output_type": "execute_result"
    }
   ],
   "source": [
    "state_of_union"
   ]
  },
  {
   "cell_type": "code",
   "execution_count": 83,
   "id": "5f234f6c",
   "metadata": {},
   "outputs": [],
   "source": [
    "from langchain.text_splitter import CharacterTextSplitter\n",
    "character_splitter = CharacterTextSplitter(separator=\"\\n\", chunk_size = 200, chunk_overlap = 10)"
   ]
  },
  {
   "cell_type": "code",
   "execution_count": 85,
   "id": "9a3dd942",
   "metadata": {},
   "outputs": [
    {
     "name": "stderr",
     "output_type": "stream",
     "text": [
      "Created a chunk of size 247, which is longer than the specified 200\n",
      "Created a chunk of size 220, which is longer than the specified 200\n",
      "Created a chunk of size 323, which is longer than the specified 200\n",
      "Created a chunk of size 307, which is longer than the specified 200\n",
      "Created a chunk of size 206, which is longer than the specified 200\n"
     ]
    }
   ],
   "source": [
    "newdoc = character_splitter.create_documents([state_of_union])"
   ]
  },
  {
   "cell_type": "code",
   "execution_count": 86,
   "id": "ffbb8185",
   "metadata": {},
   "outputs": [
    {
     "data": {
      "text/plain": [
       "40"
      ]
     },
     "execution_count": 86,
     "metadata": {},
     "output_type": "execute_result"
    }
   ],
   "source": [
    "len(newdoc)"
   ]
  },
  {
   "cell_type": "code",
   "execution_count": 87,
   "id": "d00cd1a9",
   "metadata": {},
   "outputs": [
    {
     "data": {
      "text/plain": [
       "[Document(metadata={}, page_content='EMAIL FOR DISTRIBUTOR\\nRequest for Reselling Authorization\\nDear,\\nThis is Brenly from UZAIR TRADERS LLC Company. We own a large wholesale distribution company in Washington.'),\n",
       " Document(metadata={}, page_content='We are interested in reselling your products and want to open a wholesale account with you.\\nWe have no objections to your policies, specifically your MAP and MOQ policies.'),\n",
       " Document(metadata={}, page_content='Please let us know if you require any documentation to open our account.\\nBest regards,\\nUZAIR TRADERS LLC\\nEmail: sales@uzairtradersllc.com\\nPhone: 5092231562'),\n",
       " Document(metadata={}, page_content='Address: 100 N HOWARD ST STE 4079, SPOKANE, WA, 99201-0508, UNITED STATES\\nWebsite: uzairtradersllc.com\\nproduct is on walmart cheap . and amazon is high price. contact its brandB0CVG2JT3Q'),\n",
       " Document(metadata={}, page_content='***************************************************************************\\nstore url : https://www.amazon.com/s?me=A1GMN2JN19B94C&marketplaceID=ATVPDKIKX0DER'),\n",
       " Document(metadata={}, page_content='100 N HOWARD ST STE 4079, SPOKANE, WA, 99201-0508,\\nUNITED STATES\\nVIA TRADING 100$ off: VSEWSC'),\n",
       " Document(metadata={}, page_content='***************************************************************************************************************************************'),\n",
       " Document(metadata={}, page_content='***************************************************************************************************************************************\\nTemplate for Reminder Email'),\n",
       " Document(metadata={}, page_content='Follow-up Email for Wholesale Account Creation\\nHello,\\nI am Brenly, the Sales Manager at \"UZAIR TRADERS LLC\" Company. We are a Washington-based online retailer.'),\n",
       " Document(metadata={}, page_content=\"We're excited about the chance to showcase your products in our retail line-up. Could you please guide us on opening a wholesale account and accessing pricing details? If you don't get back to us within one business day, we'll reach out via phone.\"),\n",
       " Document(metadata={}, page_content='Looking forward to hearing from you soon.\\nBest regards,\\nCompany Name: UZAIR TRADERS LLC\\nEmail: sales@uzairtradersllc.com\\nPhone: 5092231562'),\n",
       " Document(metadata={}, page_content='Address: 100 N HOWARD ST STE 4079, SPOKANE, WA, 99201-0508, UNITED STATES\\nWebsite: uzairtradersllc.com'),\n",
       " Document(metadata={}, page_content='*****************************************************************************************************************************************'),\n",
       " Document(metadata={}, page_content='***************************************************************************************************************************************\\nDistributor Info'),\n",
       " Document(metadata={}, page_content='Thank you for your prompt response and for providing clarity on your current sales policies.'),\n",
       " Document(metadata={}, page_content='Given your restrictions on online sales, could you please provide information about your authorized distributors?'),\n",
       " Document(metadata={}, page_content='I believe establishing a connection with them will allow us to explore potential opportunities to carry and promote your products.'),\n",
       " Document(metadata={}, page_content='I appreciate your assistance in this matter and look forward to the possibility of collaborating with your authorized distributors.\\nThank you again for your time and consideration.\\nBest regards,'),\n",
       " Document(metadata={}, page_content='[Your Full Name] [Your Position] [Your Company] [Your Contact Information]\\nFor UPC , PRICE LIST\\nDear U.W.I team,'),\n",
       " Document(metadata={}, page_content='I hope this email finds you well. My name is John Andrew, and I recently opened a wholesale account with your company through your website. \\nI would like to request the current wholesale price list.'),\n",
       " Document(metadata={}, page_content='Could you please provide me with the most up-to-date wholesale price list for your products?'),\n",
       " Document(metadata={}, page_content='Additionally, if there are any special promotions, discounts, or terms that I should be aware of, kindly include that information as well.'),\n",
       " Document(metadata={}, page_content='Thank you for your assistance, and I am eager to begin our collaboration.'),\n",
       " Document(metadata={}, page_content='*****************************************************************************************************************************************\\nSubject :  Request to provide authorization of Distributor'),\n",
       " Document(metadata={}, page_content='Dear [Brand Name], \\nWe are interested in becoming an authorized distributor for your products \\nand have been approached by one of your current distributors who has expressed'),\n",
       " Document(metadata={}, page_content='interest in allowing us to resell your products indirectly through their network. \\nSupplier Name: MinMaxDeals LLC\\nWebsite URL: https://www.https://minmaxdeals.com/'),\n",
       " Document(metadata={}, page_content='In order to proceed with this arrangement, we kindly request your authorization to become'),\n",
       " Document(metadata={}, page_content='an authorized distributor of your products, and for your approval of this arrangement with your existing distributor.'),\n",
       " Document(metadata={}, page_content='We believe that this will enable us to expand our reach and offer your products to a wider customer base. \\nThank you for your consideration, and we look forward to the opportunity to work with you.'),\n",
       " Document(metadata={}, page_content='Best regards,\\ntotal sale on account= 381.96 total sale\\nGolden Total Invested for single unit = 15.5195,  and total for 18 units : 279.351\\nGolden total made from 18 units =  311.54'),\n",
       " Document(metadata={}, page_content='Total profit made = 32.189\\n\\t\\nhttps://www.amazon.com/sp?ie=UTF8&seller=A1K4DETF8FR5NC&isAmazonFulfilled=1&asin=B09YMN75MP&ref_=olp_merch_name_4'),\n",
       " Document(metadata={}, page_content='https://www.amazon.com/sp?ie=UTF8&seller=AU059ESUZQM99&isAmazonFulfilled=1&asin=B09YMN75MP&ref_=olp_merch_name_3'),\n",
       " Document(metadata={}, page_content='https://www.amazon.com/sp?ie=UTF8&seller=A3VYMWM1PN27IJ&isAmazonFulfilled=1&asin=B09YMN75MP&ref_=olp_merch_name_2'),\n",
       " Document(metadata={}, page_content='https://www.amazon.com/sp?ie=UTF8&seller=A1NEA5XI8P87NP&isAmazonFulfilled=1&asin=B09YMN75MP&ref_=olp_merch_name_0\\nSubject: Proposal for Collaboration with Uzair Traders LLC'),\n",
       " Document(metadata={}, page_content=\"Dear [Recipient's Name],\"),\n",
       " Document(metadata={}, page_content='I hope this message finds you in good health and high spirits. My name is Muhammad Uzair, and I am the Director of Uzair Traders LLC. We are keen to explore a mutually beneficial partnership with your esteemed company.'),\n",
       " Document(metadata={}, page_content='Uzair Traders LLC specializes in advertising and sales through platforms like Facebook Marketplace, leveraging a dynamic and highly efficient team spread across various locations. With a track record of generating a minimum of 50 daily orders, we are confident in our ability to drive significant value for your products.'),\n",
       " Document(metadata={}, page_content='Our proposed collaboration involves us securing orders for your products in the United States. Once an order is successfully delivered, we would expect the agreed-upon payment for our services. This model ensures minimal risk on your end while allowing both parties to focus on their respective strengths.'),\n",
       " Document(metadata={}, page_content='We believe this partnership holds substantial potential for growth and success. We are eager to discuss this opportunity in greater detail and explore how we can align our efforts to achieve shared goals.'),\n",
       " Document(metadata={}, page_content='Thank you for considering our proposal. I look forward to hearing from you soon.  \\nBest regards,  \\nMuhammad Uzair  \\nDirector  \\nUzair Traders LLC  \\n[Contact Information]')]"
      ]
     },
     "execution_count": 87,
     "metadata": {},
     "output_type": "execute_result"
    }
   ],
   "source": [
    "newdoc"
   ]
  },
  {
   "cell_type": "code",
   "execution_count": 88,
   "id": "05d229fe",
   "metadata": {},
   "outputs": [
    {
     "data": {
      "text/plain": [
       "'EMAIL FOR DISTRIBUTOR\\nRequest for Reselling Authorization\\nDear,\\nThis is Brenly from UZAIR TRADERS LLC Company. We own a large wholesale distribution company in Washington.'"
      ]
     },
     "execution_count": 88,
     "metadata": {},
     "output_type": "execute_result"
    }
   ],
   "source": [
    "newdoc[0].page_content"
   ]
  },
  {
   "cell_type": "code",
   "execution_count": null,
   "id": "6c4848c6",
   "metadata": {},
   "outputs": [],
   "source": []
  }
 ],
 "metadata": {
  "kernelspec": {
   "display_name": "Python 3",
   "language": "python",
   "name": "python3"
  },
  "language_info": {
   "codemirror_mode": {
    "name": "ipython",
    "version": 3
   },
   "file_extension": ".py",
   "mimetype": "text/x-python",
   "name": "python",
   "nbconvert_exporter": "python",
   "pygments_lexer": "ipython3",
   "version": "3.12.1"
  }
 },
 "nbformat": 4,
 "nbformat_minor": 5
}

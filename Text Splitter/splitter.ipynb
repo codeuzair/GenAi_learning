{
 "cells": [
  {
   "cell_type": "markdown",
   "id": "842585fe",
   "metadata": {},
   "source": [
    "Chunking with character text splitter\n"
   ]
  },
  {
   "cell_type": "code",
   "execution_count": 1,
   "id": "8452ea0c",
   "metadata": {},
   "outputs": [],
   "source": [
    "text = \"\"\"\n",
    "Lorem ipsum dolor sit amet, consectetur adipiscing elit. Sed do eiusmod tempor incididunt ut labore et dolore magna aliqua.\n",
    "\n",
    "Ut enim ad minim veniam, quis nostrud exercitation ullamco laboris nisi ut aliquip ex ea commodo consequat.\n",
    "\n",
    "Duis aute irure dolor in reprehenderit in voluptate velit esse cillum dolore eu fugiat nulla pariatur.\n",
    "\n",
    "Excepteur sint occaecat cupidatat non proident, sunt in culpa qui officia deserunt mollit anim id est laborum.\n",
    "\"\"\""
   ]
  },
  {
   "cell_type": "code",
   "execution_count": 2,
   "id": "c03e4f15",
   "metadata": {},
   "outputs": [],
   "source": [
    "from langchain.text_splitter import RecursiveCharacterTextSplitter"
   ]
  },
  {
   "cell_type": "code",
   "execution_count": 4,
   "id": "a555d9e7",
   "metadata": {},
   "outputs": [],
   "source": [
    "from langchain.document_loaders import TextLoader"
   ]
  },
  {
   "cell_type": "code",
   "execution_count": 89,
   "id": "eaf2643a",
   "metadata": {},
   "outputs": [],
   "source": [
    "loader = TextLoader(\"email.txt\")"
   ]
  },
  {
   "cell_type": "code",
   "execution_count": 90,
   "id": "6f6e26e6",
   "metadata": {},
   "outputs": [],
   "source": [
    "data = loader.load()"
   ]
  },
  {
   "cell_type": "code",
   "execution_count": 91,
   "id": "d1d979e5",
   "metadata": {},
   "outputs": [
    {
     "data": {
      "text/plain": [
       "'1. Introduction\\nTraffic congestion and road accidents are major problems in Pakistan, leading to economic losses, increased fuel consumption, and delays. Existing solutions, such as Google Maps, do not provide real-time traffic congestion updates or minor accident reports. This project proposes an AI-powered traffic management system that utilizes Natural Language Processing (NLP), Computer Vision, and Machine Learning to detect traffic congestion, predict alternative routes, and provide real-time accident alerts. The solution will be a software-based system that can be accessed via mobile apps, web platforms, and WhatsApp chatbots, ensuring affordability and ease of use.\\n________________________________________\\n2. Objectives\\nThe primary objectives of this project are:\\n1.\\tTo develop an AI-based system that detects real-time traffic congestion and suggests alternate routes.\\n2.\\tTo integrate computer vision algorithms to analyze CCTV camera feeds for traffic congestion and accident detection.\\n3.\\tTo utilize NLP techniques for analyzing social media and user-reported incidents.\\n4.\\tTo provide WhatsApp/SMS chatbot support, enabling users to receive real-time traffic updates.\\n5.\\tTo create a scalable and cost-effective software solution without the need for expensive hardware installations.\\n________________________________________\\n3. Problem Statement\\nCurrently, traffic congestion information in Pakistan is unreliable, and minor accidents are not reported on Google Maps. There is a lack of an AI-driven system that can:\\nâ€¢\\tAnalyze real-time traffic data from multiple sources.\\nâ€¢\\tDetect accidents in real-time using computer vision and NLP.\\nâ€¢\\tSuggest optimized routes for commuters.\\nâ€¢\\tProvide traffic updates via voice, text, and visual interfaces.\\nThis project aims to fill this gap by developing a smart AI-driven traffic management system that is scalable, cost-effective, and highly accurate.\\n________________________________________\\n4. Methodology\\n4.1 Data Collection\\nâ€¢\\tGoogle Maps API & OpenStreetMap for available traffic data.\\nâ€¢\\tLive CCTV Camera Feeds for congestion and accident detection.\\nâ€¢\\tSocial Media Scraping (Twitter, Facebook, News Websites) for incident detection.\\nâ€¢\\tUser Reports via Mobile App & WhatsApp for real-time updates.\\n4.2 AI & NLP Processing\\nâ€¢\\tComputer Vision (OpenCV, YOLOv8) for detecting congestion and accidents from CCTV feeds.\\nâ€¢\\tNLP Models (Named Entity Recognition, Sentiment Analysis) for analyzing traffic-related posts on social media.\\nâ€¢\\tTraffic Prediction Model using machine learning algorithms to forecast congestion levels.\\n4.3 User Interface Development\\nâ€¢\\tMobile & Web Application (Flutter/React.js) for users to check live traffic updates.\\nâ€¢\\tWhatsApp/SMS Chatbot (Twilio API) for user accessibility.\\nâ€¢\\tVoice-Based Assistant (Speech-to-Text NLP) for hands-free interaction.\\n________________________________________\\n5. Expected Outcomes\\nâ€¢\\tReduction in traffic congestion by providing real-time optimized route suggestions.\\nâ€¢\\tFaster response to accidents through automated detection and alerting.\\nâ€¢\\tIncreased accessibility via a chatbot that allows users to receive updates via SMS/WhatsApp.\\nâ€¢\\tEconomic benefits by reducing fuel consumption, commute time, and improving logistics efficiency.\\n________________________________________\\n6. Impact on Society & Economy\\n6.1 Social Impact\\nâ€¢\\tReduces daily commute times and improves overall road safety.\\nâ€¢\\tEnables a real-time reporting system for accidents and congestion.\\nâ€¢\\tEncourages the use of AI for smart city infrastructure.\\n6.2 Economic Benefits\\nâ€¢\\tReduces fuel wastage and environmental pollution.\\nâ€¢\\tSaves time for businesses and commuters.\\nâ€¢\\tProvides a foundation for future government collaborations in traffic management.\\n________________________________________\\n'"
      ]
     },
     "execution_count": 91,
     "metadata": {},
     "output_type": "execute_result"
    }
   ],
   "source": [
    "data[0].page_content"
   ]
  },
  {
   "cell_type": "code",
   "execution_count": 92,
   "id": "f600e850",
   "metadata": {},
   "outputs": [
    {
     "data": {
      "text/plain": [
       "3818"
      ]
     },
     "execution_count": 92,
     "metadata": {},
     "output_type": "execute_result"
    }
   ],
   "source": [
    "len(data[0].page_content)"
   ]
  },
  {
   "cell_type": "code",
   "execution_count": 93,
   "id": "b7dcff82",
   "metadata": {},
   "outputs": [],
   "source": [
    "splitter = RecursiveCharacterTextSplitter(\n",
    "    chunk_size = 1000,\n",
    "    chunk_overlap = 200,\n",
    "    length_function = len,\n",
    "    is_separator_regex=False\n",
    ")\n"
   ]
  },
  {
   "cell_type": "code",
   "execution_count": 94,
   "id": "88ee0141",
   "metadata": {},
   "outputs": [],
   "source": [
    "result = splitter.split_documents(data)"
   ]
  },
  {
   "cell_type": "code",
   "execution_count": 95,
   "id": "6b8ee7b0",
   "metadata": {},
   "outputs": [
    {
     "data": {
      "text/plain": [
       "5"
      ]
     },
     "execution_count": 95,
     "metadata": {},
     "output_type": "execute_result"
    }
   ],
   "source": [
    "len(result)"
   ]
  },
  {
   "cell_type": "code",
   "execution_count": 96,
   "id": "5e9ed3ed",
   "metadata": {},
   "outputs": [
    {
     "data": {
      "text/plain": [
       "[Document(metadata={'source': 'email.txt'}, page_content='1. Introduction\\nTraffic congestion and road accidents are major problems in Pakistan, leading to economic losses, increased fuel consumption, and delays. Existing solutions, such as Google Maps, do not provide real-time traffic congestion updates or minor accident reports. This project proposes an AI-powered traffic management system that utilizes Natural Language Processing (NLP), Computer Vision, and Machine Learning to detect traffic congestion, predict alternative routes, and provide real-time accident alerts. The solution will be a software-based system that can be accessed via mobile apps, web platforms, and WhatsApp chatbots, ensuring affordability and ease of use.\\n________________________________________\\n2. Objectives\\nThe primary objectives of this project are:\\n1.\\tTo develop an AI-based system that detects real-time traffic congestion and suggests alternate routes.'),\n",
       " Document(metadata={'source': 'email.txt'}, page_content='2. Objectives\\nThe primary objectives of this project are:\\n1.\\tTo develop an AI-based system that detects real-time traffic congestion and suggests alternate routes.\\n2.\\tTo integrate computer vision algorithms to analyze CCTV camera feeds for traffic congestion and accident detection.\\n3.\\tTo utilize NLP techniques for analyzing social media and user-reported incidents.\\n4.\\tTo provide WhatsApp/SMS chatbot support, enabling users to receive real-time traffic updates.\\n5.\\tTo create a scalable and cost-effective software solution without the need for expensive hardware installations.\\n________________________________________\\n3. Problem Statement\\nCurrently, traffic congestion information in Pakistan is unreliable, and minor accidents are not reported on Google Maps. There is a lack of an AI-driven system that can:\\nâ€¢\\tAnalyze real-time traffic data from multiple sources.\\nâ€¢\\tDetect accidents in real-time using computer vision and NLP.\\nâ€¢\\tSuggest optimized routes for commuters.'),\n",
       " Document(metadata={'source': 'email.txt'}, page_content='â€¢\\tAnalyze real-time traffic data from multiple sources.\\nâ€¢\\tDetect accidents in real-time using computer vision and NLP.\\nâ€¢\\tSuggest optimized routes for commuters.\\nâ€¢\\tProvide traffic updates via voice, text, and visual interfaces.\\nThis project aims to fill this gap by developing a smart AI-driven traffic management system that is scalable, cost-effective, and highly accurate.\\n________________________________________\\n4. Methodology\\n4.1 Data Collection\\nâ€¢\\tGoogle Maps API & OpenStreetMap for available traffic data.\\nâ€¢\\tLive CCTV Camera Feeds for congestion and accident detection.\\nâ€¢\\tSocial Media Scraping (Twitter, Facebook, News Websites) for incident detection.\\nâ€¢\\tUser Reports via Mobile App & WhatsApp for real-time updates.\\n4.2 AI & NLP Processing\\nâ€¢\\tComputer Vision (OpenCV, YOLOv8) for detecting congestion and accidents from CCTV feeds.\\nâ€¢\\tNLP Models (Named Entity Recognition, Sentiment Analysis) for analyzing traffic-related posts on social media.'),\n",
       " Document(metadata={'source': 'email.txt'}, page_content='â€¢\\tNLP Models (Named Entity Recognition, Sentiment Analysis) for analyzing traffic-related posts on social media.\\nâ€¢\\tTraffic Prediction Model using machine learning algorithms to forecast congestion levels.\\n4.3 User Interface Development\\nâ€¢\\tMobile & Web Application (Flutter/React.js) for users to check live traffic updates.\\nâ€¢\\tWhatsApp/SMS Chatbot (Twilio API) for user accessibility.\\nâ€¢\\tVoice-Based Assistant (Speech-to-Text NLP) for hands-free interaction.\\n________________________________________\\n5. Expected Outcomes\\nâ€¢\\tReduction in traffic congestion by providing real-time optimized route suggestions.\\nâ€¢\\tFaster response to accidents through automated detection and alerting.\\nâ€¢\\tIncreased accessibility via a chatbot that allows users to receive updates via SMS/WhatsApp.\\nâ€¢\\tEconomic benefits by reducing fuel consumption, commute time, and improving logistics efficiency.\\n________________________________________\\n6. Impact on Society & Economy\\n6.1 Social Impact'),\n",
       " Document(metadata={'source': 'email.txt'}, page_content='â€¢\\tEconomic benefits by reducing fuel consumption, commute time, and improving logistics efficiency.\\n________________________________________\\n6. Impact on Society & Economy\\n6.1 Social Impact\\nâ€¢\\tReduces daily commute times and improves overall road safety.\\nâ€¢\\tEnables a real-time reporting system for accidents and congestion.\\nâ€¢\\tEncourages the use of AI for smart city infrastructure.\\n6.2 Economic Benefits\\nâ€¢\\tReduces fuel wastage and environmental pollution.\\nâ€¢\\tSaves time for businesses and commuters.\\nâ€¢\\tProvides a foundation for future government collaborations in traffic management.\\n________________________________________')]"
      ]
     },
     "execution_count": 96,
     "metadata": {},
     "output_type": "execute_result"
    }
   ],
   "source": [
    "result"
   ]
  },
  {
   "cell_type": "markdown",
   "id": "e9ab7503",
   "metadata": {},
   "source": [
    "🔹 Use create_documents() when you have raw text (str) and want to turn it into Document chunks.\n",
    "\n",
    "🔹 Use split_documents() when you already have Document objects and want to chunk their content."
   ]
  },
  {
   "cell_type": "code",
   "execution_count": 97,
   "id": "d6dc871a",
   "metadata": {},
   "outputs": [],
   "source": [
    "with open(\"email.txt\") as f:\n",
    "    state_of_union = f.read()"
   ]
  },
  {
   "cell_type": "code",
   "execution_count": 98,
   "id": "a813d773",
   "metadata": {},
   "outputs": [
    {
     "data": {
      "text/plain": [
       "'1. Introduction\\nTraffic congestion and road accidents are major problems in Pakistan, leading to economic losses, increased fuel consumption, and delays. Existing solutions, such as Google Maps, do not provide real-time traffic congestion updates or minor accident reports. This project proposes an AI-powered traffic management system that utilizes Natural Language Processing (NLP), Computer Vision, and Machine Learning to detect traffic congestion, predict alternative routes, and provide real-time accident alerts. The solution will be a software-based system that can be accessed via mobile apps, web platforms, and WhatsApp chatbots, ensuring affordability and ease of use.\\n________________________________________\\n2. Objectives\\nThe primary objectives of this project are:\\n1.\\tTo develop an AI-based system that detects real-time traffic congestion and suggests alternate routes.\\n2.\\tTo integrate computer vision algorithms to analyze CCTV camera feeds for traffic congestion and accident detection.\\n3.\\tTo utilize NLP techniques for analyzing social media and user-reported incidents.\\n4.\\tTo provide WhatsApp/SMS chatbot support, enabling users to receive real-time traffic updates.\\n5.\\tTo create a scalable and cost-effective software solution without the need for expensive hardware installations.\\n________________________________________\\n3. Problem Statement\\nCurrently, traffic congestion information in Pakistan is unreliable, and minor accidents are not reported on Google Maps. There is a lack of an AI-driven system that can:\\nâ€¢\\tAnalyze real-time traffic data from multiple sources.\\nâ€¢\\tDetect accidents in real-time using computer vision and NLP.\\nâ€¢\\tSuggest optimized routes for commuters.\\nâ€¢\\tProvide traffic updates via voice, text, and visual interfaces.\\nThis project aims to fill this gap by developing a smart AI-driven traffic management system that is scalable, cost-effective, and highly accurate.\\n________________________________________\\n4. Methodology\\n4.1 Data Collection\\nâ€¢\\tGoogle Maps API & OpenStreetMap for available traffic data.\\nâ€¢\\tLive CCTV Camera Feeds for congestion and accident detection.\\nâ€¢\\tSocial Media Scraping (Twitter, Facebook, News Websites) for incident detection.\\nâ€¢\\tUser Reports via Mobile App & WhatsApp for real-time updates.\\n4.2 AI & NLP Processing\\nâ€¢\\tComputer Vision (OpenCV, YOLOv8) for detecting congestion and accidents from CCTV feeds.\\nâ€¢\\tNLP Models (Named Entity Recognition, Sentiment Analysis) for analyzing traffic-related posts on social media.\\nâ€¢\\tTraffic Prediction Model using machine learning algorithms to forecast congestion levels.\\n4.3 User Interface Development\\nâ€¢\\tMobile & Web Application (Flutter/React.js) for users to check live traffic updates.\\nâ€¢\\tWhatsApp/SMS Chatbot (Twilio API) for user accessibility.\\nâ€¢\\tVoice-Based Assistant (Speech-to-Text NLP) for hands-free interaction.\\n________________________________________\\n5. Expected Outcomes\\nâ€¢\\tReduction in traffic congestion by providing real-time optimized route suggestions.\\nâ€¢\\tFaster response to accidents through automated detection and alerting.\\nâ€¢\\tIncreased accessibility via a chatbot that allows users to receive updates via SMS/WhatsApp.\\nâ€¢\\tEconomic benefits by reducing fuel consumption, commute time, and improving logistics efficiency.\\n________________________________________\\n6. Impact on Society & Economy\\n6.1 Social Impact\\nâ€¢\\tReduces daily commute times and improves overall road safety.\\nâ€¢\\tEnables a real-time reporting system for accidents and congestion.\\nâ€¢\\tEncourages the use of AI for smart city infrastructure.\\n6.2 Economic Benefits\\nâ€¢\\tReduces fuel wastage and environmental pollution.\\nâ€¢\\tSaves time for businesses and commuters.\\nâ€¢\\tProvides a foundation for future government collaborations in traffic management.\\n________________________________________\\n'"
      ]
     },
     "execution_count": 98,
     "metadata": {},
     "output_type": "execute_result"
    }
   ],
   "source": [
    "state_of_union"
   ]
  },
  {
   "cell_type": "code",
   "execution_count": 101,
   "id": "5f234f6c",
   "metadata": {},
   "outputs": [],
   "source": [
    "from langchain.text_splitter import CharacterTextSplitter\n",
    "character_splitter = CharacterTextSplitter(separator=\"\\n\", chunk_size = 300, chunk_overlap = 50)"
   ]
  },
  {
   "cell_type": "code",
   "execution_count": 102,
   "id": "9a3dd942",
   "metadata": {},
   "outputs": [
    {
     "name": "stderr",
     "output_type": "stream",
     "text": [
      "Created a chunk of size 664, which is longer than the specified 300\n"
     ]
    }
   ],
   "source": [
    "newdoc = character_splitter.create_documents([state_of_union])"
   ]
  },
  {
   "cell_type": "code",
   "execution_count": 103,
   "id": "ffbb8185",
   "metadata": {},
   "outputs": [
    {
     "data": {
      "text/plain": [
       "15"
      ]
     },
     "execution_count": 103,
     "metadata": {},
     "output_type": "execute_result"
    }
   ],
   "source": [
    "len(newdoc)"
   ]
  },
  {
   "cell_type": "code",
   "execution_count": 104,
   "id": "d00cd1a9",
   "metadata": {},
   "outputs": [
    {
     "data": {
      "text/plain": [
       "[Document(metadata={}, page_content='1. Introduction'),\n",
       " Document(metadata={}, page_content='Traffic congestion and road accidents are major problems in Pakistan, leading to economic losses, increased fuel consumption, and delays. Existing solutions, such as Google Maps, do not provide real-time traffic congestion updates or minor accident reports. This project proposes an AI-powered traffic management system that utilizes Natural Language Processing (NLP), Computer Vision, and Machine Learning to detect traffic congestion, predict alternative routes, and provide real-time accident alerts. The solution will be a software-based system that can be accessed via mobile apps, web platforms, and WhatsApp chatbots, ensuring affordability and ease of use.'),\n",
       " Document(metadata={}, page_content='________________________________________\\n2. Objectives\\nThe primary objectives of this project are:\\n1.\\tTo develop an AI-based system that detects real-time traffic congestion and suggests alternate routes.'),\n",
       " Document(metadata={}, page_content='2.\\tTo integrate computer vision algorithms to analyze CCTV camera feeds for traffic congestion and accident detection.\\n3.\\tTo utilize NLP techniques for analyzing social media and user-reported incidents.\\n4.\\tTo provide WhatsApp/SMS chatbot support, enabling users to receive real-time traffic updates.'),\n",
       " Document(metadata={}, page_content='5.\\tTo create a scalable and cost-effective software solution without the need for expensive hardware installations.\\n________________________________________\\n3. Problem Statement'),\n",
       " Document(metadata={}, page_content='3. Problem Statement\\nCurrently, traffic congestion information in Pakistan is unreliable, and minor accidents are not reported on Google Maps. There is a lack of an AI-driven system that can:\\nâ€¢\\tAnalyze real-time traffic data from multiple sources.'),\n",
       " Document(metadata={}, page_content='â€¢\\tDetect accidents in real-time using computer vision and NLP.\\nâ€¢\\tSuggest optimized routes for commuters.\\nâ€¢\\tProvide traffic updates via voice, text, and visual interfaces.'),\n",
       " Document(metadata={}, page_content='This project aims to fill this gap by developing a smart AI-driven traffic management system that is scalable, cost-effective, and highly accurate.\\n________________________________________\\n4. Methodology\\n4.1 Data Collection\\nâ€¢\\tGoogle Maps API & OpenStreetMap for available traffic data.'),\n",
       " Document(metadata={}, page_content='â€¢\\tLive CCTV Camera Feeds for congestion and accident detection.\\nâ€¢\\tSocial Media Scraping (Twitter, Facebook, News Websites) for incident detection.\\nâ€¢\\tUser Reports via Mobile App & WhatsApp for real-time updates.\\n4.2 AI & NLP Processing'),\n",
       " Document(metadata={}, page_content='4.2 AI & NLP Processing\\nâ€¢\\tComputer Vision (OpenCV, YOLOv8) for detecting congestion and accidents from CCTV feeds.\\nâ€¢\\tNLP Models (Named Entity Recognition, Sentiment Analysis) for analyzing traffic-related posts on social media.'),\n",
       " Document(metadata={}, page_content='â€¢\\tTraffic Prediction Model using machine learning algorithms to forecast congestion levels.\\n4.3 User Interface Development\\nâ€¢\\tMobile & Web Application (Flutter/React.js) for users to check live traffic updates.\\nâ€¢\\tWhatsApp/SMS Chatbot (Twilio API) for user accessibility.'),\n",
       " Document(metadata={}, page_content='â€¢\\tVoice-Based Assistant (Speech-to-Text NLP) for hands-free interaction.\\n________________________________________\\n5. Expected Outcomes\\nâ€¢\\tReduction in traffic congestion by providing real-time optimized route suggestions.\\nâ€¢\\tFaster response to accidents through automated detection and alerting.'),\n",
       " Document(metadata={}, page_content='â€¢\\tIncreased accessibility via a chatbot that allows users to receive updates via SMS/WhatsApp.\\nâ€¢\\tEconomic benefits by reducing fuel consumption, commute time, and improving logistics efficiency.\\n________________________________________\\n6. Impact on Society & Economy\\n6.1 Social Impact'),\n",
       " Document(metadata={}, page_content='6. Impact on Society & Economy\\n6.1 Social Impact\\nâ€¢\\tReduces daily commute times and improves overall road safety.\\nâ€¢\\tEnables a real-time reporting system for accidents and congestion.\\nâ€¢\\tEncourages the use of AI for smart city infrastructure.\\n6.2 Economic Benefits'),\n",
       " Document(metadata={}, page_content='6.2 Economic Benefits\\nâ€¢\\tReduces fuel wastage and environmental pollution.\\nâ€¢\\tSaves time for businesses and commuters.\\nâ€¢\\tProvides a foundation for future government collaborations in traffic management.\\n________________________________________')]"
      ]
     },
     "execution_count": 104,
     "metadata": {},
     "output_type": "execute_result"
    }
   ],
   "source": [
    "newdoc"
   ]
  },
  {
   "cell_type": "code",
   "execution_count": 105,
   "id": "05d229fe",
   "metadata": {},
   "outputs": [
    {
     "data": {
      "text/plain": [
       "'1. Introduction'"
      ]
     },
     "execution_count": 105,
     "metadata": {},
     "output_type": "execute_result"
    }
   ],
   "source": [
    "newdoc[0].page_content"
   ]
  },
  {
   "cell_type": "code",
   "execution_count": null,
   "id": "6c4848c6",
   "metadata": {},
   "outputs": [],
   "source": []
  }
 ],
 "metadata": {
  "kernelspec": {
   "display_name": "Python 3",
   "language": "python",
   "name": "python3"
  },
  "language_info": {
   "codemirror_mode": {
    "name": "ipython",
    "version": 3
   },
   "file_extension": ".py",
   "mimetype": "text/x-python",
   "name": "python",
   "nbconvert_exporter": "python",
   "pygments_lexer": "ipython3",
   "version": "3.12.1"
  }
 },
 "nbformat": 4,
 "nbformat_minor": 5
}

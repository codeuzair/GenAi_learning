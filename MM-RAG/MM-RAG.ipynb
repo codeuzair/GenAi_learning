{
 "cells": [
  {
   "cell_type": "markdown",
   "id": "103dbb06",
   "metadata": {},
   "source": [
    "Multi-Model RAG"
   ]
  },
  {
   "cell_type": "markdown",
   "id": "fc6c308d",
   "metadata": {},
   "source": [
    "we need to run it on colab, because we will be using u'nstructered' library and it is not supported in local. \n"
   ]
  }
 ],
 "metadata": {
  "language_info": {
   "name": "python"
  }
 },
 "nbformat": 4,
 "nbformat_minor": 5
}
